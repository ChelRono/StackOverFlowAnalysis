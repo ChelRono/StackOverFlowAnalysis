{
 "cells": [
  {
   "cell_type": "code",
   "execution_count": 1,
   "id": "94a587eb-382a-47c1-b773-0ac85aa0145a",
   "metadata": {},
   "outputs": [],
   "source": [
    "import pandas as pd"
   ]
  },
  {
   "cell_type": "code",
   "execution_count": 3,
   "id": "e79fc25d-435d-4b50-a833-95c702a3e08b",
   "metadata": {},
   "outputs": [],
   "source": [
    "people = {\n",
    "    \"First\" : ['Val','Lopy','Vicky','Chiri'],\n",
    "    \"Last\" : ['Chela','Sharon','Chepkoech','Beaty'],\n",
    "    \"Email\" : ['chela@gmail.com','sharon@gmail.com','vicky@gmail.com','chiri@gmail.com']\n",
    "}"
   ]
  },
  {
   "cell_type": "code",
   "execution_count": 5,
   "id": "e451e8c7-c32d-46ad-82ba-a660ee75bb3a",
   "metadata": {},
   "outputs": [],
   "source": [
    "df = pd.DataFrame(people)"
   ]
  },
  {
   "cell_type": "code",
   "execution_count": 7,
   "id": "562f6e2b-48d0-4c29-9b63-615d8da28e1e",
   "metadata": {},
   "outputs": [
    {
     "data": {
      "text/html": [
       "<div>\n",
       "<style scoped>\n",
       "    .dataframe tbody tr th:only-of-type {\n",
       "        vertical-align: middle;\n",
       "    }\n",
       "\n",
       "    .dataframe tbody tr th {\n",
       "        vertical-align: top;\n",
       "    }\n",
       "\n",
       "    .dataframe thead th {\n",
       "        text-align: right;\n",
       "    }\n",
       "</style>\n",
       "<table border=\"1\" class=\"dataframe\">\n",
       "  <thead>\n",
       "    <tr style=\"text-align: right;\">\n",
       "      <th></th>\n",
       "      <th>First</th>\n",
       "      <th>Last</th>\n",
       "      <th>Email</th>\n",
       "    </tr>\n",
       "  </thead>\n",
       "  <tbody>\n",
       "    <tr>\n",
       "      <th>0</th>\n",
       "      <td>Val</td>\n",
       "      <td>Chela</td>\n",
       "      <td>chela@gmail.com</td>\n",
       "    </tr>\n",
       "    <tr>\n",
       "      <th>1</th>\n",
       "      <td>Lopy</td>\n",
       "      <td>Sharon</td>\n",
       "      <td>sharon@gmail.com</td>\n",
       "    </tr>\n",
       "    <tr>\n",
       "      <th>2</th>\n",
       "      <td>Vicky</td>\n",
       "      <td>Chepkoech</td>\n",
       "      <td>vicky@gmail.com</td>\n",
       "    </tr>\n",
       "    <tr>\n",
       "      <th>3</th>\n",
       "      <td>Chiri</td>\n",
       "      <td>Beaty</td>\n",
       "      <td>chiri@gmail.com</td>\n",
       "    </tr>\n",
       "  </tbody>\n",
       "</table>\n",
       "</div>"
      ],
      "text/plain": [
       "   First       Last             Email\n",
       "0    Val      Chela   chela@gmail.com\n",
       "1   Lopy     Sharon  sharon@gmail.com\n",
       "2  Vicky  Chepkoech   vicky@gmail.com\n",
       "3  Chiri      Beaty   chiri@gmail.com"
      ]
     },
     "execution_count": 7,
     "metadata": {},
     "output_type": "execute_result"
    }
   ],
   "source": [
    "df"
   ]
  },
  {
   "cell_type": "code",
   "execution_count": 9,
   "id": "9b4566af-b3fd-4dc8-ac1c-a8cf12d3bbe7",
   "metadata": {},
   "outputs": [],
   "source": [
    "df['FullName'] = df['First'] + ' ' + df['Last']"
   ]
  },
  {
   "cell_type": "code",
   "execution_count": 11,
   "id": "720e30fe-0179-4b4d-a1f2-40a62afbf1b2",
   "metadata": {},
   "outputs": [
    {
     "data": {
      "text/html": [
       "<div>\n",
       "<style scoped>\n",
       "    .dataframe tbody tr th:only-of-type {\n",
       "        vertical-align: middle;\n",
       "    }\n",
       "\n",
       "    .dataframe tbody tr th {\n",
       "        vertical-align: top;\n",
       "    }\n",
       "\n",
       "    .dataframe thead th {\n",
       "        text-align: right;\n",
       "    }\n",
       "</style>\n",
       "<table border=\"1\" class=\"dataframe\">\n",
       "  <thead>\n",
       "    <tr style=\"text-align: right;\">\n",
       "      <th></th>\n",
       "      <th>First</th>\n",
       "      <th>Last</th>\n",
       "      <th>Email</th>\n",
       "      <th>FullName</th>\n",
       "    </tr>\n",
       "  </thead>\n",
       "  <tbody>\n",
       "    <tr>\n",
       "      <th>0</th>\n",
       "      <td>Val</td>\n",
       "      <td>Chela</td>\n",
       "      <td>chela@gmail.com</td>\n",
       "      <td>Val Chela</td>\n",
       "    </tr>\n",
       "    <tr>\n",
       "      <th>1</th>\n",
       "      <td>Lopy</td>\n",
       "      <td>Sharon</td>\n",
       "      <td>sharon@gmail.com</td>\n",
       "      <td>Lopy Sharon</td>\n",
       "    </tr>\n",
       "    <tr>\n",
       "      <th>2</th>\n",
       "      <td>Vicky</td>\n",
       "      <td>Chepkoech</td>\n",
       "      <td>vicky@gmail.com</td>\n",
       "      <td>Vicky Chepkoech</td>\n",
       "    </tr>\n",
       "    <tr>\n",
       "      <th>3</th>\n",
       "      <td>Chiri</td>\n",
       "      <td>Beaty</td>\n",
       "      <td>chiri@gmail.com</td>\n",
       "      <td>Chiri Beaty</td>\n",
       "    </tr>\n",
       "  </tbody>\n",
       "</table>\n",
       "</div>"
      ],
      "text/plain": [
       "   First       Last             Email         FullName\n",
       "0    Val      Chela   chela@gmail.com        Val Chela\n",
       "1   Lopy     Sharon  sharon@gmail.com      Lopy Sharon\n",
       "2  Vicky  Chepkoech   vicky@gmail.com  Vicky Chepkoech\n",
       "3  Chiri      Beaty   chiri@gmail.com      Chiri Beaty"
      ]
     },
     "execution_count": 11,
     "metadata": {},
     "output_type": "execute_result"
    }
   ],
   "source": [
    "df"
   ]
  },
  {
   "cell_type": "code",
   "execution_count": 15,
   "id": "55ad1f4b-22f9-4a38-9436-fad637e36ec2",
   "metadata": {},
   "outputs": [],
   "source": [
    "df.drop(columns=['First','Last'],inplace=True)"
   ]
  },
  {
   "cell_type": "code",
   "execution_count": 17,
   "id": "3cb1b7cf-5ea6-44cc-87e7-9c9449fc3e96",
   "metadata": {},
   "outputs": [
    {
     "data": {
      "text/html": [
       "<div>\n",
       "<style scoped>\n",
       "    .dataframe tbody tr th:only-of-type {\n",
       "        vertical-align: middle;\n",
       "    }\n",
       "\n",
       "    .dataframe tbody tr th {\n",
       "        vertical-align: top;\n",
       "    }\n",
       "\n",
       "    .dataframe thead th {\n",
       "        text-align: right;\n",
       "    }\n",
       "</style>\n",
       "<table border=\"1\" class=\"dataframe\">\n",
       "  <thead>\n",
       "    <tr style=\"text-align: right;\">\n",
       "      <th></th>\n",
       "      <th>Email</th>\n",
       "      <th>FullName</th>\n",
       "    </tr>\n",
       "  </thead>\n",
       "  <tbody>\n",
       "    <tr>\n",
       "      <th>0</th>\n",
       "      <td>chela@gmail.com</td>\n",
       "      <td>Val Chela</td>\n",
       "    </tr>\n",
       "    <tr>\n",
       "      <th>1</th>\n",
       "      <td>sharon@gmail.com</td>\n",
       "      <td>Lopy Sharon</td>\n",
       "    </tr>\n",
       "    <tr>\n",
       "      <th>2</th>\n",
       "      <td>vicky@gmail.com</td>\n",
       "      <td>Vicky Chepkoech</td>\n",
       "    </tr>\n",
       "    <tr>\n",
       "      <th>3</th>\n",
       "      <td>chiri@gmail.com</td>\n",
       "      <td>Chiri Beaty</td>\n",
       "    </tr>\n",
       "  </tbody>\n",
       "</table>\n",
       "</div>"
      ],
      "text/plain": [
       "              Email         FullName\n",
       "0   chela@gmail.com        Val Chela\n",
       "1  sharon@gmail.com      Lopy Sharon\n",
       "2   vicky@gmail.com  Vicky Chepkoech\n",
       "3   chiri@gmail.com      Chiri Beaty"
      ]
     },
     "execution_count": 17,
     "metadata": {},
     "output_type": "execute_result"
    }
   ],
   "source": [
    "df"
   ]
  },
  {
   "cell_type": "code",
   "execution_count": 19,
   "id": "a24df1c0-3426-4569-ac7f-276be7d43348",
   "metadata": {},
   "outputs": [
    {
     "data": {
      "text/plain": [
       "0          [Val, Chela]\n",
       "1        [Lopy, Sharon]\n",
       "2    [Vicky, Chepkoech]\n",
       "3        [Chiri, Beaty]\n",
       "Name: FullName, dtype: object"
      ]
     },
     "execution_count": 19,
     "metadata": {},
     "output_type": "execute_result"
    }
   ],
   "source": [
    "df['FullName'].str.split(' ')"
   ]
  },
  {
   "cell_type": "code",
   "execution_count": 21,
   "id": "85983ba8-16ce-464b-a53a-8c453790213f",
   "metadata": {},
   "outputs": [
    {
     "data": {
      "text/html": [
       "<div>\n",
       "<style scoped>\n",
       "    .dataframe tbody tr th:only-of-type {\n",
       "        vertical-align: middle;\n",
       "    }\n",
       "\n",
       "    .dataframe tbody tr th {\n",
       "        vertical-align: top;\n",
       "    }\n",
       "\n",
       "    .dataframe thead th {\n",
       "        text-align: right;\n",
       "    }\n",
       "</style>\n",
       "<table border=\"1\" class=\"dataframe\">\n",
       "  <thead>\n",
       "    <tr style=\"text-align: right;\">\n",
       "      <th></th>\n",
       "      <th>0</th>\n",
       "      <th>1</th>\n",
       "    </tr>\n",
       "  </thead>\n",
       "  <tbody>\n",
       "    <tr>\n",
       "      <th>0</th>\n",
       "      <td>Val</td>\n",
       "      <td>Chela</td>\n",
       "    </tr>\n",
       "    <tr>\n",
       "      <th>1</th>\n",
       "      <td>Lopy</td>\n",
       "      <td>Sharon</td>\n",
       "    </tr>\n",
       "    <tr>\n",
       "      <th>2</th>\n",
       "      <td>Vicky</td>\n",
       "      <td>Chepkoech</td>\n",
       "    </tr>\n",
       "    <tr>\n",
       "      <th>3</th>\n",
       "      <td>Chiri</td>\n",
       "      <td>Beaty</td>\n",
       "    </tr>\n",
       "  </tbody>\n",
       "</table>\n",
       "</div>"
      ],
      "text/plain": [
       "       0          1\n",
       "0    Val      Chela\n",
       "1   Lopy     Sharon\n",
       "2  Vicky  Chepkoech\n",
       "3  Chiri      Beaty"
      ]
     },
     "execution_count": 21,
     "metadata": {},
     "output_type": "execute_result"
    }
   ],
   "source": [
    "df['FullName'].str.split(' ',expand=True)"
   ]
  },
  {
   "cell_type": "code",
   "execution_count": 23,
   "id": "a6320255-8f70-42c3-9288-15012d4db108",
   "metadata": {},
   "outputs": [],
   "source": [
    "df[['First','Last']] = df['FullName'].str.split(' ',expand=True)"
   ]
  },
  {
   "cell_type": "code",
   "execution_count": 25,
   "id": "3f0c245c-bdab-4f67-a1a2-52bb20de7702",
   "metadata": {},
   "outputs": [
    {
     "data": {
      "text/html": [
       "<div>\n",
       "<style scoped>\n",
       "    .dataframe tbody tr th:only-of-type {\n",
       "        vertical-align: middle;\n",
       "    }\n",
       "\n",
       "    .dataframe tbody tr th {\n",
       "        vertical-align: top;\n",
       "    }\n",
       "\n",
       "    .dataframe thead th {\n",
       "        text-align: right;\n",
       "    }\n",
       "</style>\n",
       "<table border=\"1\" class=\"dataframe\">\n",
       "  <thead>\n",
       "    <tr style=\"text-align: right;\">\n",
       "      <th></th>\n",
       "      <th>Email</th>\n",
       "      <th>FullName</th>\n",
       "      <th>First</th>\n",
       "      <th>Last</th>\n",
       "    </tr>\n",
       "  </thead>\n",
       "  <tbody>\n",
       "    <tr>\n",
       "      <th>0</th>\n",
       "      <td>chela@gmail.com</td>\n",
       "      <td>Val Chela</td>\n",
       "      <td>Val</td>\n",
       "      <td>Chela</td>\n",
       "    </tr>\n",
       "    <tr>\n",
       "      <th>1</th>\n",
       "      <td>sharon@gmail.com</td>\n",
       "      <td>Lopy Sharon</td>\n",
       "      <td>Lopy</td>\n",
       "      <td>Sharon</td>\n",
       "    </tr>\n",
       "    <tr>\n",
       "      <th>2</th>\n",
       "      <td>vicky@gmail.com</td>\n",
       "      <td>Vicky Chepkoech</td>\n",
       "      <td>Vicky</td>\n",
       "      <td>Chepkoech</td>\n",
       "    </tr>\n",
       "    <tr>\n",
       "      <th>3</th>\n",
       "      <td>chiri@gmail.com</td>\n",
       "      <td>Chiri Beaty</td>\n",
       "      <td>Chiri</td>\n",
       "      <td>Beaty</td>\n",
       "    </tr>\n",
       "  </tbody>\n",
       "</table>\n",
       "</div>"
      ],
      "text/plain": [
       "              Email         FullName  First       Last\n",
       "0   chela@gmail.com        Val Chela    Val      Chela\n",
       "1  sharon@gmail.com      Lopy Sharon   Lopy     Sharon\n",
       "2   vicky@gmail.com  Vicky Chepkoech  Vicky  Chepkoech\n",
       "3   chiri@gmail.com      Chiri Beaty  Chiri      Beaty"
      ]
     },
     "execution_count": 25,
     "metadata": {},
     "output_type": "execute_result"
    }
   ],
   "source": [
    "df"
   ]
  },
  {
   "cell_type": "code",
   "execution_count": 29,
   "id": "78414830-e546-40b6-80c6-0ca11262140c",
   "metadata": {},
   "outputs": [
    {
     "data": {
      "text/html": [
       "<div>\n",
       "<style scoped>\n",
       "    .dataframe tbody tr th:only-of-type {\n",
       "        vertical-align: middle;\n",
       "    }\n",
       "\n",
       "    .dataframe tbody tr th {\n",
       "        vertical-align: top;\n",
       "    }\n",
       "\n",
       "    .dataframe thead th {\n",
       "        text-align: right;\n",
       "    }\n",
       "</style>\n",
       "<table border=\"1\" class=\"dataframe\">\n",
       "  <thead>\n",
       "    <tr style=\"text-align: right;\">\n",
       "      <th></th>\n",
       "      <th>Email</th>\n",
       "      <th>FullName</th>\n",
       "      <th>First</th>\n",
       "      <th>Last</th>\n",
       "    </tr>\n",
       "  </thead>\n",
       "  <tbody>\n",
       "    <tr>\n",
       "      <th>0</th>\n",
       "      <td>chela@gmail.com</td>\n",
       "      <td>Val Chela</td>\n",
       "      <td>Val</td>\n",
       "      <td>Chela</td>\n",
       "    </tr>\n",
       "    <tr>\n",
       "      <th>1</th>\n",
       "      <td>sharon@gmail.com</td>\n",
       "      <td>Lopy Sharon</td>\n",
       "      <td>Lopy</td>\n",
       "      <td>Sharon</td>\n",
       "    </tr>\n",
       "    <tr>\n",
       "      <th>2</th>\n",
       "      <td>vicky@gmail.com</td>\n",
       "      <td>Vicky Chepkoech</td>\n",
       "      <td>Vicky</td>\n",
       "      <td>Chepkoech</td>\n",
       "    </tr>\n",
       "    <tr>\n",
       "      <th>3</th>\n",
       "      <td>chiri@gmail.com</td>\n",
       "      <td>Chiri Beaty</td>\n",
       "      <td>Chiri</td>\n",
       "      <td>Beaty</td>\n",
       "    </tr>\n",
       "    <tr>\n",
       "      <th>4</th>\n",
       "      <td>NaN</td>\n",
       "      <td>NaN</td>\n",
       "      <td>NaN</td>\n",
       "      <td>Rono</td>\n",
       "    </tr>\n",
       "  </tbody>\n",
       "</table>\n",
       "</div>"
      ],
      "text/plain": [
       "              Email         FullName  First       Last\n",
       "0   chela@gmail.com        Val Chela    Val      Chela\n",
       "1  sharon@gmail.com      Lopy Sharon   Lopy     Sharon\n",
       "2   vicky@gmail.com  Vicky Chepkoech  Vicky  Chepkoech\n",
       "3   chiri@gmail.com      Chiri Beaty  Chiri      Beaty\n",
       "4               NaN              NaN    NaN       Rono"
      ]
     },
     "execution_count": 29,
     "metadata": {},
     "output_type": "execute_result"
    }
   ],
   "source": [
    "df._append({'Last':'Rono'},ignore_index=True)"
   ]
  },
  {
   "cell_type": "code",
   "execution_count": 31,
   "id": "53de0200-f9fa-4831-8c73-0042611dbba9",
   "metadata": {},
   "outputs": [],
   "source": [
    "people = {\n",
    "    \"First\" : ['Eunice','Livingstone'],\n",
    "    \"Last\" : ['Sambu','Rono'],\n",
    "    \"Email\" : ['sambu@gmail.com','rono@gmail.com']\n",
    "}\n",
    "df2 = pd.DataFrame(people)"
   ]
  },
  {
   "cell_type": "code",
   "execution_count": 33,
   "id": "90218083-0acb-44d9-82b3-b371e6bedd4c",
   "metadata": {},
   "outputs": [
    {
     "data": {
      "text/html": [
       "<div>\n",
       "<style scoped>\n",
       "    .dataframe tbody tr th:only-of-type {\n",
       "        vertical-align: middle;\n",
       "    }\n",
       "\n",
       "    .dataframe tbody tr th {\n",
       "        vertical-align: top;\n",
       "    }\n",
       "\n",
       "    .dataframe thead th {\n",
       "        text-align: right;\n",
       "    }\n",
       "</style>\n",
       "<table border=\"1\" class=\"dataframe\">\n",
       "  <thead>\n",
       "    <tr style=\"text-align: right;\">\n",
       "      <th></th>\n",
       "      <th>First</th>\n",
       "      <th>Last</th>\n",
       "      <th>Email</th>\n",
       "    </tr>\n",
       "  </thead>\n",
       "  <tbody>\n",
       "    <tr>\n",
       "      <th>0</th>\n",
       "      <td>Eunice</td>\n",
       "      <td>Sambu</td>\n",
       "      <td>sambu@gmail.com</td>\n",
       "    </tr>\n",
       "    <tr>\n",
       "      <th>1</th>\n",
       "      <td>Livingstone</td>\n",
       "      <td>Rono</td>\n",
       "      <td>rono@gmail.com</td>\n",
       "    </tr>\n",
       "  </tbody>\n",
       "</table>\n",
       "</div>"
      ],
      "text/plain": [
       "         First   Last            Email\n",
       "0       Eunice  Sambu  sambu@gmail.com\n",
       "1  Livingstone   Rono   rono@gmail.com"
      ]
     },
     "execution_count": 33,
     "metadata": {},
     "output_type": "execute_result"
    }
   ],
   "source": [
    "df2"
   ]
  },
  {
   "cell_type": "code",
   "execution_count": 45,
   "id": "a6b8c81d-1615-4187-8935-ca6d0d851bf6",
   "metadata": {},
   "outputs": [],
   "source": [
    "df = df._append(df2,ignore_index=True)"
   ]
  },
  {
   "cell_type": "code",
   "execution_count": 47,
   "id": "99d2f14b-080e-4988-b30a-83d937f1daaf",
   "metadata": {},
   "outputs": [
    {
     "data": {
      "text/html": [
       "<div>\n",
       "<style scoped>\n",
       "    .dataframe tbody tr th:only-of-type {\n",
       "        vertical-align: middle;\n",
       "    }\n",
       "\n",
       "    .dataframe tbody tr th {\n",
       "        vertical-align: top;\n",
       "    }\n",
       "\n",
       "    .dataframe thead th {\n",
       "        text-align: right;\n",
       "    }\n",
       "</style>\n",
       "<table border=\"1\" class=\"dataframe\">\n",
       "  <thead>\n",
       "    <tr style=\"text-align: right;\">\n",
       "      <th></th>\n",
       "      <th>Email</th>\n",
       "      <th>FullName</th>\n",
       "      <th>First</th>\n",
       "      <th>Last</th>\n",
       "    </tr>\n",
       "  </thead>\n",
       "  <tbody>\n",
       "    <tr>\n",
       "      <th>0</th>\n",
       "      <td>chela@gmail.com</td>\n",
       "      <td>Val Chela</td>\n",
       "      <td>Val</td>\n",
       "      <td>Chela</td>\n",
       "    </tr>\n",
       "    <tr>\n",
       "      <th>1</th>\n",
       "      <td>sharon@gmail.com</td>\n",
       "      <td>Lopy Sharon</td>\n",
       "      <td>Lopy</td>\n",
       "      <td>Sharon</td>\n",
       "    </tr>\n",
       "    <tr>\n",
       "      <th>2</th>\n",
       "      <td>vicky@gmail.com</td>\n",
       "      <td>Vicky Chepkoech</td>\n",
       "      <td>Vicky</td>\n",
       "      <td>Chepkoech</td>\n",
       "    </tr>\n",
       "    <tr>\n",
       "      <th>3</th>\n",
       "      <td>chiri@gmail.com</td>\n",
       "      <td>Chiri Beaty</td>\n",
       "      <td>Chiri</td>\n",
       "      <td>Beaty</td>\n",
       "    </tr>\n",
       "    <tr>\n",
       "      <th>4</th>\n",
       "      <td>sambu@gmail.com</td>\n",
       "      <td>NaN</td>\n",
       "      <td>Eunice</td>\n",
       "      <td>Sambu</td>\n",
       "    </tr>\n",
       "    <tr>\n",
       "      <th>5</th>\n",
       "      <td>rono@gmail.com</td>\n",
       "      <td>NaN</td>\n",
       "      <td>Livingstone</td>\n",
       "      <td>Rono</td>\n",
       "    </tr>\n",
       "  </tbody>\n",
       "</table>\n",
       "</div>"
      ],
      "text/plain": [
       "              Email         FullName        First       Last\n",
       "0   chela@gmail.com        Val Chela          Val      Chela\n",
       "1  sharon@gmail.com      Lopy Sharon         Lopy     Sharon\n",
       "2   vicky@gmail.com  Vicky Chepkoech        Vicky  Chepkoech\n",
       "3   chiri@gmail.com      Chiri Beaty        Chiri      Beaty\n",
       "4   sambu@gmail.com              NaN       Eunice      Sambu\n",
       "5    rono@gmail.com              NaN  Livingstone       Rono"
      ]
     },
     "execution_count": 47,
     "metadata": {},
     "output_type": "execute_result"
    }
   ],
   "source": [
    "df"
   ]
  },
  {
   "cell_type": "code",
   "execution_count": 49,
   "id": "1b700c58-05a4-4c49-be89-937402a4a671",
   "metadata": {},
   "outputs": [
    {
     "data": {
      "text/html": [
       "<div>\n",
       "<style scoped>\n",
       "    .dataframe tbody tr th:only-of-type {\n",
       "        vertical-align: middle;\n",
       "    }\n",
       "\n",
       "    .dataframe tbody tr th {\n",
       "        vertical-align: top;\n",
       "    }\n",
       "\n",
       "    .dataframe thead th {\n",
       "        text-align: right;\n",
       "    }\n",
       "</style>\n",
       "<table border=\"1\" class=\"dataframe\">\n",
       "  <thead>\n",
       "    <tr style=\"text-align: right;\">\n",
       "      <th></th>\n",
       "      <th>Email</th>\n",
       "      <th>FullName</th>\n",
       "      <th>First</th>\n",
       "      <th>Last</th>\n",
       "    </tr>\n",
       "  </thead>\n",
       "  <tbody>\n",
       "    <tr>\n",
       "      <th>0</th>\n",
       "      <td>chela@gmail.com</td>\n",
       "      <td>Val Chela</td>\n",
       "      <td>Val</td>\n",
       "      <td>Chela</td>\n",
       "    </tr>\n",
       "    <tr>\n",
       "      <th>1</th>\n",
       "      <td>sharon@gmail.com</td>\n",
       "      <td>Lopy Sharon</td>\n",
       "      <td>Lopy</td>\n",
       "      <td>Sharon</td>\n",
       "    </tr>\n",
       "    <tr>\n",
       "      <th>2</th>\n",
       "      <td>vicky@gmail.com</td>\n",
       "      <td>Vicky Chepkoech</td>\n",
       "      <td>Vicky</td>\n",
       "      <td>Chepkoech</td>\n",
       "    </tr>\n",
       "    <tr>\n",
       "      <th>3</th>\n",
       "      <td>chiri@gmail.com</td>\n",
       "      <td>Chiri Beaty</td>\n",
       "      <td>Chiri</td>\n",
       "      <td>Beaty</td>\n",
       "    </tr>\n",
       "    <tr>\n",
       "      <th>4</th>\n",
       "      <td>sambu@gmail.com</td>\n",
       "      <td>NaN</td>\n",
       "      <td>Eunice</td>\n",
       "      <td>Sambu</td>\n",
       "    </tr>\n",
       "  </tbody>\n",
       "</table>\n",
       "</div>"
      ],
      "text/plain": [
       "              Email         FullName   First       Last\n",
       "0   chela@gmail.com        Val Chela     Val      Chela\n",
       "1  sharon@gmail.com      Lopy Sharon    Lopy     Sharon\n",
       "2   vicky@gmail.com  Vicky Chepkoech   Vicky  Chepkoech\n",
       "3   chiri@gmail.com      Chiri Beaty   Chiri      Beaty\n",
       "4   sambu@gmail.com              NaN  Eunice      Sambu"
      ]
     },
     "execution_count": 49,
     "metadata": {},
     "output_type": "execute_result"
    }
   ],
   "source": [
    "df.drop(index=5)"
   ]
  },
  {
   "cell_type": "code",
   "execution_count": null,
   "id": "62f2fbd3-0f87-4575-a465-2bcb47ac3b97",
   "metadata": {},
   "outputs": [],
   "source": []
  }
 ],
 "metadata": {
  "kernelspec": {
   "display_name": "Python 3 (ipykernel)",
   "language": "python",
   "name": "python3"
  },
  "language_info": {
   "codemirror_mode": {
    "name": "ipython",
    "version": 3
   },
   "file_extension": ".py",
   "mimetype": "text/x-python",
   "name": "python",
   "nbconvert_exporter": "python",
   "pygments_lexer": "ipython3",
   "version": "3.11.7"
  }
 },
 "nbformat": 4,
 "nbformat_minor": 5
}
